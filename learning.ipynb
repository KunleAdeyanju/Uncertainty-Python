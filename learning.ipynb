{
 "cells": [
  {
   "cell_type": "code",
   "execution_count": 1,
   "metadata": {},
   "outputs": [
    {
     "data": {
      "text/plain": [
       "('Red',\n",
       " 'Red',\n",
       " 'Red',\n",
       " 'Red',\n",
       " 'Red',\n",
       " 'Blue',\n",
       " 'Blue',\n",
       " 'Blue',\n",
       " 'Blue',\n",
       " 'Blue',\n",
       " 'Blue',\n",
       " 'Blue')"
      ]
     },
     "execution_count": 1,
     "metadata": {},
     "output_type": "execute_result"
    }
   ],
   "source": [
    "bag = (\n",
    "    \"Red\",\n",
    "    \"Red\",\n",
    "    \"Red\",\n",
    "    \"Red\",\n",
    "    \"Red\",\n",
    "    \"Blue\",\n",
    "    \"Blue\",\n",
    "    \"Blue\",\n",
    "    \"Blue\",\n",
    "    \"Blue\",\n",
    "    \"Blue\",\n",
    "    \"Blue\",\n",
    ")\n",
    "bag"
   ]
  },
  {
   "cell_type": "code",
   "execution_count": 2,
   "metadata": {},
   "outputs": [
    {
     "data": {
      "text/plain": [
       "['Red',\n",
       " 'Red',\n",
       " 'Red',\n",
       " 'Red',\n",
       " 'Red',\n",
       " 'Blue',\n",
       " 'Blue',\n",
       " 'Blue',\n",
       " 'Blue',\n",
       " 'Blue',\n",
       " 'Blue',\n",
       " 'Blue']"
      ]
     },
     "execution_count": 2,
     "metadata": {},
     "output_type": "execute_result"
    }
   ],
   "source": [
    "\"\"\"\n",
    "We are there using the circular brackets `()` and the quotation marks\n",
    "`\"`. Those are important and cannot be omitted. The choice of brackets `()` as\n",
    "opposed to `{}` or `[]` is in fact important as it instructs Python to do\n",
    "different things (we will learn about this later). You can use `\"` or `'`\n",
    "interchangeably.\n",
    "\"\"\"\n",
    "bag = [\"Red\"] * 5 + [\"Blue\"] * 7\n",
    "bag"
   ]
  },
  {
   "cell_type": "code",
   "execution_count": null,
   "metadata": {},
   "outputs": [],
   "source": []
  }
 ],
 "metadata": {
  "kernelspec": {
   "display_name": "Python 3",
   "language": "python",
   "name": "python3"
  },
  "language_info": {
   "codemirror_mode": {
    "name": "ipython",
    "version": 3
   },
   "file_extension": ".py",
   "mimetype": "text/x-python",
   "name": "python",
   "nbconvert_exporter": "python",
   "pygments_lexer": "ipython3",
   "version": "3.11.11"
  }
 },
 "nbformat": 4,
 "nbformat_minor": 2
}
